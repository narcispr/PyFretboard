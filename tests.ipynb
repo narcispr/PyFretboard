{
 "cells": [
  {
   "cell_type": "code",
   "execution_count": 2,
   "metadata": {},
   "outputs": [
    {
     "data": {
      "text/plain": [
       "Text(0, 0.5, 'Type')"
      ]
     },
     "execution_count": 2,
     "metadata": {},
     "output_type": "execute_result"
    },
    {
     "data": {
      "image/png": "[encoded data removed]",
      "text/plain": [
       "<Figure size 504x288 with 1 Axes>"
      ]
     },
     "metadata": {
      "needs_background": "light"
     },
     "output_type": "display_data"
    }
   ],
   "source": [
    "from matplotlib import pyplot as plt\n",
    "import pandas as pd\n",
    "# import matplotlib.font_manager\n",
    "# matplotlib.font_manager.findSystemFonts(fontpaths=None, fontext='ttf')\n",
    "\n",
    "from matplotlib import font_manager\n",
    "\n",
    "font_dirs = ['./']\n",
    "font_files = font_manager.findSystemFonts(fontpaths=font_dirs)\n",
    "\n",
    "for font_file in font_files:\n",
    "    font_manager.fontManager.addfont(font_file)\n",
    "\n",
    "# set font\n",
    "# plt.rcParams['font.family'] = 'Musisync'\n",
    "\n",
    "\n",
    "df = pd.DataFrame({'perc': pd.Series([45, 35, 10, 5, 3, 2], index=['A', 'B', 'C','D','E','F'])})\n",
    "\n",
    "# specify the custom font to use\n",
    "plt.rcParams['font.family'] = 'sans-serif'\n",
    "# plt.rcParams['font.sans-serif'] = 'Comic Sans MS'\n",
    "\n",
    "fig, ax = plt.subplots(figsize=(7,4))\n",
    "df.iloc[::-1].plot(kind='barh', legend = False, ax=ax)\n",
    "ax.set_xlabel('Percentage',fontsize=15)\n",
    "ax.set_ylabel('Type',fontsize=15)\n"
   ]
  },
  {
   "cell_type": "code",
   "execution_count": 1,
   "metadata": {},
   "outputs": [
    {
     "name": "stdout",
     "output_type": "stream",
     "text": [
      "(-24.0, 504.0, -2.0, 42.0)\n",
      "0.8333333333333334\n"
     ]
    },
    {
     "data": {
      "image/png": "[encoded data removed]",
      "text/plain": [
       "<Figure size 432x288 with 1 Axes>"
      ]
     },
     "metadata": {
      "needs_background": "light"
     },
     "output_type": "display_data"
    }
   ],
   "source": [
    "from matplotlib import pyplot as plt\n",
    "from matplotlib import font_manager\n",
    "\n",
    "def setup_score_font():\n",
    "    font_dirs = ['./']\n",
    "    font_files = font_manager.findSystemFonts(fontpaths=font_dirs)\n",
    "\n",
    "    for font_file in font_files:\n",
    "        font_manager.fontManager.addfont(font_file)\n",
    "\n",
    "    # set font\n",
    "    plt.rcParams['font.family'] = 'Musisync'\n",
    "\n",
    "def create_score(length=11):\n",
    "    for i in range(5):\n",
    "        plt.plot([0, 60+length*30], [i*10, i*10], 'k')\n",
    "\n",
    "    factor = 400/(60+length*30)\n",
    "    print(plt.axis('equal'))\n",
    "    plt.axis('off')\n",
    "    plt.text(10, 0, 'G', fontsize=50*factor)\n",
    "    return  factor # factor to scale font size\n",
    "\n",
    "def draw_note(note, octave, position, factor=1):\n",
    "\n",
    "    pitch = {'C': -14, 'D': -9, 'E': -4, 'F': 1, 'G': 6, 'A': 11, 'B': 16}\n",
    "    text = \"w\"\n",
    "    x = 60 + position * 30\n",
    "    if len(note) > 1: \n",
    "        x -= 9\n",
    "        if note[1] == 'b':\n",
    "            text = \"bw\"\n",
    "        elif note[1] == '#':\n",
    "            text = \"Bw\"\n",
    "    y = pitch[note[0]] + octave*35\n",
    "\n",
    "    if y <= -14:\n",
    "        x_bar = x\n",
    "        if len(note) > 1:\n",
    "            x_bar += 10\n",
    "        \n",
    "        for i in range(-14, y-1, -10):\n",
    "            plt.plot([x_bar-2, x_bar+15], [i+3.5, i+3.5], 'k')\n",
    "\n",
    "    plt.text(x, y, text, fontsize=30*factor)\n",
    "\n",
    "\n",
    "\n",
    "\n",
    "notes = [('C#', 0), ('D', 0), ('E', 0), ('F', 0), ('G', -1), ('A', -1), ('B', -1), ('C#', 0), ('D', 0), ('E', 0), ('F', 0), ('G', -1), ('A', -1), ('B', -1)]\n",
    "\n",
    "setup_score_font()\n",
    "f = create_score(len(notes))\n",
    "print(f)\n",
    "for i, n in enumerate(notes):\n",
    "    draw_note(n[0], n[1], i, f)\n",
    "\n",
    "plt.savefig('score.png', dpi=300)\n",
    "\n"
   ]
  },
  {
   "cell_type": "code",
   "execution_count": null,
   "metadata": {},
   "outputs": [],
   "source": []
  }
 ],
 "metadata": {
  "kernelspec": {
   "display_name": "Python 3.8.10 64-bit",
   "language": "python",
   "name": "python3"
  },
  "language_info": {
   "codemirror_mode": {
    "name": "ipython",
    "version": 3
   },
   "file_extension": ".py",
   "mimetype": "text/x-python",
   "name": "python",
   "nbconvert_exporter": "python",
   "pygments_lexer": "ipython3",
   "version": "3.8.10"
  },
  "orig_nbformat": 4,
  "vscode": {
   "interpreter": {
    "hash": "e7370f93d1d0cde622a1f8e1c04877d8463912d04d973331ad4851f04de6915a"
   }
  }
 },
 "nbformat": 4,
 "nbformat_minor": 2
}
