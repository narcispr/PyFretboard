{
 "cells": [
  {
   "cell_type": "markdown",
   "metadata": {},
   "source": [
    "# Testing the PyFretboard API\n",
    "\n",
    "**PyFretboard** was intended to have a simple way to draw fretboard diagrams (aka shapes) using Python. Most of the available solutions use SVG as the graphics engine while I wanted something based on Matplotlib."
   ]
  },
  {
   "cell_type": "markdown",
   "metadata": {},
   "source": [
    "## Defining a shape\n",
    "\n",
    "Shapes (or diagrams) are composed of Fingers. Therefore, there is a \n",
    "* `Finger` class to define a finger position, harmonic function, fingering, ... and \n",
    "* a `Shape` class that contains a set of fingers."
   ]
  },
  {
   "cell_type": "code",
   "execution_count": null,
   "metadata": {},
   "outputs": [],
   "source": [
    "from PyFretboard.finger import Finger\n",
    "from PyFretboard.shape import Shape\n",
    "from PyFretboard.draw_shape import DrawShape\n",
    "from PyFretboard.draw_score import DrawScore\n",
    "from PyFretboard.definitions import PyFretboard as PF\n",
    "\n",
    "f1 = Finger(pitch='C', function='1', string='E', fret=8, finger='2')\n",
    "f2 = Finger(pitch='E', function='3', string='A', fret=7, finger='1')\n",
    "f3 = Finger(pitch='G', function='5', string='A', fret=10, finger='4')\n",
    "f4 = Finger(pitch='C', function='1', string='D', fret=10, finger='4')\n",
    "c_shape = Shape([f1, f2, f3, f4])\n",
    "c_shape.type = PF.SHAPE_TYPE['STRUM']\n",
    "\n",
    "# Draw diagram showing harmonic function\n",
    "draw = DrawShape()\n",
    "f = draw.draw(c_shape, text=PF.TEXT_FUNCTION, return_fig=True)\n",
    "f.savefig('shape.png', bbox_inches='tight')\n",
    "\n",
    "# Draw diagram showing fingering and shape name\n",
    "draw.draw(c_shape, text=PF.TEXT_FINGER, shape_name=\"C Major\")\n",
    "\n",
    "# Draw diagram showing Note name in vertical--> WARNING! Notes are show using enharmony! \n",
    "draw_v = DrawShape(fret_size=15) # For vertical diagrams it is better reduce fret_size from 20 to 15\n",
    "draw_v.draw_vertical(c_shape, text=PF.TEXT_PITCH, show_string_names=True) # In vertical mode string names are by default disables\n",
    "\n",
    "draw_score = DrawScore()\n",
    "draw_score.draw(c_shape)\n"
   ]
  },
  {
   "cell_type": "markdown",
   "metadata": {},
   "source": [
    "## Automatic shape generation\n",
    "\n",
    "Since defining the *fingers* one by one is tedious, there is a `BuildShape` class that can generate them automatically.\n",
    "\n",
    "The class follows the following steps:\n",
    "\n",
    "* Given a root and a shape type (defined in the `shapes.csv` file), it generates all shape notes.\n",
    "* Finds at which position on the fretboard these notes can be played.\n",
    "* Recursively, all sets of shapes are generated in which the lower fret and the upper fret are within six or less of each other.\n",
    "* An automatic fingering algorithm is used to assign with which finger to play each note.\n",
    "* The resulting shapes are filtered using various heuristics to keep only the most playable shapes.\n",
    "\n",
    "With the current fingering and filtering rules, the algorithm can generate the standard *Berklee* shapes plus some additional shapes that are variants of them. By modifying these rules, other shapes/fingerings could be created."
   ]
  },
  {
   "cell_type": "code",
   "execution_count": null,
   "metadata": {},
   "outputs": [],
   "source": [
    "from PyFretboard.build_shape import BuildShape\n",
    "from PyFretboard.draw_shape import DrawShape\n",
    "from PyFretboard.definitions import PyFretboard as PF\n",
    "\n",
    "shapes = BuildShape(root='C', shape_type='dism')\n",
    "draw = DrawShape()\n",
    "\n",
    "for e, shape in enumerate(shapes.all_shapes):\n",
    "    if shape.valid:\n",
    "    # if e in [8, 23, 30, 41, 54, 59]:\n",
    "        print(e)\n",
    "        draw.draw(shape, text=PF.TEXT_FUNCTION, return_fig=False)\n",
    "        # f.savefig('penta_{}.png'.format(e), bbox_inches='tight')\n",
    "        # print(shape.to_xml())\n"
   ]
  },
  {
   "cell_type": "code",
   "execution_count": null,
   "metadata": {},
   "outputs": [],
   "source": [
    "from PyFretboard.build_shape import BuildShape\n",
    "from PyFretboard.draw_shape import DrawShape\n",
    "from PyFretboard.definitions import PyFretboard as PF\n",
    "\n",
    "c7_drop2 = BuildShape(root='C', shape_type='Maj7')\n",
    "drops = c7_drop2.build_drop(drop=2, bass_string=\"D\")\n",
    "draw = DrawShape(fret_size=15)\n",
    "for d in drops:\n",
    "    if d.valid:\n",
    "        draw.draw_vertical(d, text=PF.TEXT_PITCH)\n",
    "        # print(d.to_xml())\n"
   ]
  },
  {
   "cell_type": "markdown",
   "metadata": {},
   "source": [
    "## Import song from SongXML file\n",
    "\n",
    "Import a shapes defined using SongXML file and genertate shapes for its scales (arpeggios and drops to be done)."
   ]
  },
  {
   "cell_type": "code",
   "execution_count": 4,
   "metadata": {},
   "outputs": [],
   "source": [
    "from PIL import Image\n",
    "import numpy as np\n",
    "\n",
    "def get_first_black_pixel(data):\n",
    "    for i in range(data.shape[0]):\n",
    "        for j in range(data.shape[1]):\n",
    "            if data[i, j] != 255:\n",
    "                print(data[i,j])\n",
    "                return i\n",
    "\n",
    "def get_last_black_pixel(data):\n",
    "    for i in range(data.shape[0]-1, 0, -1):\n",
    "        for j in range(data.shape[1]):\n",
    "            if data[i, j] != 255:\n",
    "                return i\n",
    "\n",
    "def crop_image(name):\n",
    "    img = Image.open(name).convert('L')\n",
    "    data = np.array(img)\n",
    "    first = get_first_black_pixel(data)\n",
    "    last = get_last_black_pixel(data)\n",
    "    img1 = img.crop((0, first, data.shape[1], last))\n",
    "    img1.save(\"crop_\" + name)"
   ]
  },
  {
   "cell_type": "code",
   "execution_count": null,
   "metadata": {},
   "outputs": [],
   "source": [
    "from PyFretboard.song import Song\n",
    "from PyFretboard.draw_shape import DrawShape\n",
    "from PyFretboard.definitions import PyFretboard as PF\n",
    "from PyFretboard.draw_score import DrawScore\n",
    "\n",
    "# names = ['Ionian', 'Dorian', 'Lydian', 'Mixolydian', 'Aeolian', 'Locrian']\n",
    "# names = ['Pentatonic Maj', 'Pentatonic']\n",
    "names = ['Lydianb7', 'Mixolydianb9#9b13']\n",
    "draw = DrawShape()\n",
    "ds = DrawScore()\n",
    "song = Song(\"/home/narcis/PyFretboard/shapes_xml/modes.xml\")\n",
    "    \n",
    "for name in names:\n",
    "    # name=\"Mixolydian\"\n",
    "    shapes = song.get_scale_type_at_root(name, 'C')\n",
    "    for i, s in enumerate(shapes):\n",
    "        f = draw.draw(s, text=PF.TEXT_FUNCTION, return_fig=True)\n",
    "        # f.savefig(name + \"_C_{}.png\".format(i+1), dpi=300, bbox_inches='tight', pad_inches=0)\n",
    "        fs = ds.draw(s, fingering=True, return_fig=True, tab=True)\n",
    "        # fs.savefig(name + \"_C_score_{}.png\".format(i+1), dpi=600, bbox_inches='tight', pad_inches=0)\n",
    "        # crop_image(name + \"_C_score_{}.png\".format(i+1))\n",
    "    "
   ]
  },
  {
   "cell_type": "code",
   "execution_count": null,
   "metadata": {},
   "outputs": [],
   "source": [
    "# Draw chords\n",
    "\n",
    "from PyFretboard.song import Song\n",
    "from PyFretboard.draw_shape import DrawShape\n",
    "from PyFretboard.definitions import PyFretboard as PF\n",
    "from PyFretboard.draw_score import DrawScore\n",
    "\n",
    "draw = DrawShape()\n",
    "song = Song(\"/home/narcis/PyFretboard/shapes_xml/drop2.xml\")\n",
    "shapes = song.chord_shapes\n",
    "ds = DrawScore()\n",
    "\n",
    "for i, k in enumerate(shapes.keys()):\n",
    "    s = song.chord_shapes[k]\n",
    "    f = draw.draw_vertical(s, text=PF.TEXT_FUNCTION, return_fig=True)\n",
    "    #f.savefig(\"triads{}.png\".format(k), dpi=300, bbox_inches='tight', pad_inches=0)\n",
    "    fs = ds.draw(s, fingering=False, return_fig=True, tab=False)\n",
    "    #fs.savefig(\"triads{}_score.png\".format(k), dpi=600, bbox_inches='tight', pad_inches=0)\n",
    "    #crop_image(\"triads{}_score.png\".format(k))\n",
    "    "
   ]
  },
  {
   "cell_type": "code",
   "execution_count": 1,
   "metadata": {},
   "outputs": [
    {
     "ename": "SyntaxError",
     "evalue": "invalid syntax (4136637263.py, line 13)",
     "output_type": "error",
     "traceback": [
      "\u001b[0;36m  Input \u001b[0;32mIn [1]\u001b[0;36m\u001b[0m\n\u001b[0;31m    for .TEXT_FUNCTION, return_fig=True)\u001b[0m\n\u001b[0m        ^\u001b[0m\n\u001b[0;31mSyntaxError\u001b[0m\u001b[0;31m:\u001b[0m invalid syntax\n"
     ]
    }
   ],
   "source": [
    "from PyFretboard.song import Song\n",
    "from PyFretboard.draw_shape import DrawShape\n",
    "from PyFretboard.definitions import PyFretboard as PF\n",
    "from PyFretboard.draw_score import DrawScore\n",
    "\n",
    "names = ['Maj7']#, '7', '-7', '-7b5']\n",
    "draw = DrawShape()\n",
    "ds = DrawScore()\n",
    "song = Song(\"/home/narcis/PyFretboard/shapes_xml/arpeggios2.xml\")\n",
    "    \n",
    "for name in names:\n",
    "    shapes = song.get_scale_type_at_root(name, 'C')\n",
    "    for i, s in enumerate(shapes):\n",
    "        f = draw.draw(s, text=PF.TEXT_FUNCTION, return_fig=True)\n",
    "        # f.savefig(name + \"_arppegio_C_{}.png\".format(i+1), dpi=300, bbox_inches='tight', pad_inches=0)\n",
    "        fs = ds.draw(s, fingering=True, return_fig=True, tab=True, x_off=0, y_off=0)\n",
    "        # fs.savefig(name + \"_arppegio_C_score_{}.png\".format(i+1), dpi=600, bbox_inches='tight', pad_inches=0)\n",
    "        # crop_image(name + \"_arppegio_C_score_{}.png\".format(i+1))\n",
    "    "
   ]
  },
  {
   "cell_type": "code",
   "execution_count": null,
   "metadata": {},
   "outputs": [],
   "source": [
    "from PyFretboard.song import Song\n",
    "from PyFretboard.draw_shape import DrawShape\n",
    "from PyFretboard.definitions import PyFretboard as PF\n",
    "from PyFretboard.draw_score import DrawScore\n",
    "\n",
    "draw = DrawShape()\n",
    "ds = DrawScore()\n",
    "song = Song(\"/home/narcis/PyFretboard/shapes_xml/modes.xml\")\n",
    "tones = ['C'] #, 'D', 'E', 'F', 'G', 'A', 'B']\n",
    "modes = ['Ionian', 'Dorian', 'Frigian', 'Lydian', 'Mixolydian', 'Aeolian', 'Locrian'] # , 'Mixolydianb9#9b13', 'Lydianb7'\n",
    "\n",
    "for t in tones:\n",
    "    for m in modes:\n",
    "        shapes = song.get_scale_type_at_root(m, t)\n",
    "        for i, s in enumerate(shapes):\n",
    "            f = ds.draw(s, fingering=True, return_fig=True)\n",
    "            # f.savefig(\"{}_{}_{}.png\".format(t, m, i), dpi=300, bbox_inches='tight', pad_inches=0)\n"
   ]
  },
  {
   "cell_type": "code",
   "execution_count": null,
   "metadata": {},
   "outputs": [],
   "source": []
  }
 ],
 "metadata": {
  "kernelspec": {
   "display_name": "venv",
   "language": "python",
   "name": "venv"
  },
  "language_info": {
   "codemirror_mode": {
    "name": "ipython",
    "version": 3
   },
   "file_extension": ".py",
   "mimetype": "text/x-python",
   "name": "python",
   "nbconvert_exporter": "python",
   "pygments_lexer": "ipython3",
   "version": "3.8.10"
  },
  "orig_nbformat": 4,
  "vscode": {
   "interpreter": {
    "hash": "767d51c1340bd893661ea55ea3124f6de3c7a262a8b4abca0554b478b1e2ff90"
   }
  }
 },
 "nbformat": 4,
 "nbformat_minor": 2
}
